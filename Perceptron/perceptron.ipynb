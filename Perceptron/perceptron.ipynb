{
  "nbformat": 4,
  "nbformat_minor": 0,
  "metadata": {
    "colab": {
      "name": "EPC01-GustavoAlves.ipynb",
      "provenance": [],
      "collapsed_sections": [
        "6z1pabtfxhWG"
      ],
      "toc_visible": true
    },
    "kernelspec": {
      "name": "python3",
      "display_name": "Python 3"
    },
    "language_info": {
      "name": "python"
    }
  },
  "cells": [
    {
      "cell_type": "markdown",
      "source": [
        "#Atividade Perceptron - Gustavo dos Santos Menezes Alves\n"
      ],
      "metadata": {
        "id": "pTwrWC43gtvO"
      }
    },
    {
      "cell_type": "code",
      "source": [
        "# Dados iniciais\n",
        "\n",
        "import numpy as np\n",
        "\n",
        "#Geraçãoo de pesos aleatórios\n",
        "Pesos = np.random.rand(4)\n",
        "\n",
        "\n",
        "#Taxa de aprendizagem\n",
        "n = 0.01\n",
        "\n",
        "\n"
      ],
      "metadata": {
        "id": "xUwf96XwgwSy"
      },
      "execution_count": null,
      "outputs": []
    },
    {
      "cell_type": "code",
      "source": [
        "#Soma ponderada\n",
        "def somaPonderada(X,W):\n",
        "  \n",
        "  m = np.multiply(X,W)\n",
        "  r = np.sum(m) \n",
        "  return r"
      ],
      "metadata": {
        "id": "u1rOhBXnkHBC"
      },
      "execution_count": null,
      "outputs": []
    },
    {
      "cell_type": "code",
      "source": [
        "# Função de ativação(função degrau)\n",
        "def funcaoAtivacao(u):\n",
        "  if u>= 0:\n",
        "    return 1\n",
        "  else:\n",
        "    return -1\n",
        "\n"
      ],
      "metadata": {
        "id": "Alk4QfL_mocb"
      },
      "execution_count": null,
      "outputs": []
    },
    {
      "cell_type": "code",
      "source": [
        "# Saída\n",
        "def saida(X,W):\n",
        "  r = somaPonderada(X,W)\n",
        "  return funcaoAtivacao(r)"
      ],
      "metadata": {
        "id": "DO3mH7mXnvvb"
      },
      "execution_count": null,
      "outputs": []
    },
    {
      "cell_type": "code",
      "source": [
        "#Função de ajuste\n",
        "#novo peso => wi = wi +  n xi(d-y)\n",
        "\n",
        "def ajuste(n, W, X, d,y):\n",
        "  erro = d - y\n",
        "  novoPeso = W + n*X*erro\n",
        " \n",
        "  return novoPeso\n"
      ],
      "metadata": {
        "id": "1p1vCrrCoOaD"
      },
      "execution_count": null,
      "outputs": []
    },
    {
      "cell_type": "markdown",
      "source": [
        "#Treinamento"
      ],
      "metadata": {
        "id": "G418h4Jfq39r"
      }
    },
    {
      "cell_type": "code",
      "source": [
        "\n",
        "\n",
        "print('\\n___________Fase de Treinamento_______________')\n",
        "erro = True\n",
        "contador = 0;\n",
        "print(\"Peso anterior:\",Pesos)\n",
        "while(erro):\n",
        "  contador = contador + 1\n",
        "  erro= False;\n",
        "  file = open('treinamento.txt', 'r')\n",
        "\n",
        "  print('\\nEpoca:', contador)\n",
        "  for linha in file:\n",
        "      y = 0\n",
        "      arrayLinha = (linha.split())\n",
        "      arrayEntrada = [float(i) for i in arrayLinha]\n",
        "      A = np.array(arrayEntrada[0:4])\n",
        "      d = arrayEntrada[4]\n",
        "      y = saida(A, Pesos)\n",
        "      if (y != d):\n",
        "          Pesos = ajuste(n,Pesos, A, d, y)\n",
        "          erro = True\n",
        "\n",
        "  file.close()\n",
        "# print(\"Peso anterior\",pesoAnterior )\n",
        "print('Peso Novo:', Pesos)"
      ],
      "metadata": {
        "id": "9Bxgj5qMq8pa"
      },
      "execution_count": null,
      "outputs": []
    },
    {
      "cell_type": "markdown",
      "source": [
        "#Teste\n"
      ],
      "metadata": {
        "id": "O1muzE-I0h9I"
      }
    },
    {
      "cell_type": "code",
      "source": [
        "\n",
        "erro = True\n",
        "print('Peso Anterior:', Pesos)\n",
        "\n",
        "file = open('teste.txt', 'r')\n",
        "contador = 0;\n",
        "for linha in file:\n",
        "    contador = contador + 1\n",
        "    arrayLinha = (linha.split())\n",
        "    arrayEntrada = [float(i) for i in arrayLinha]\n",
        "    A = np.array(arrayEntrada[0:4])\n",
        "    y = saida(A,Pesos )\n",
        "    print('Amostra: ', contador)\n",
        "    print(\"Saída: \",y)\n",
        "    print('\\n')\n",
        "\n",
        "file.close()"
      ],
      "metadata": {
        "id": "h2AsOKbzALu8"
      },
      "execution_count": null,
      "outputs": []
    }
  ]
}