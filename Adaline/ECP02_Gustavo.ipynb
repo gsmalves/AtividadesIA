{
  "cells": [
    {
      "cell_type": "markdown",
      "metadata": {
        "id": "J1sSPBJmySZB"
      },
      "source": [
        "#Atividade ECP2 - Gustavo Alves\n",
        "\n"
      ]
    },
    {
      "cell_type": "code",
      "execution_count": null,
      "metadata": {
        "id": "zaw5JpIPyYLE"
      },
      "outputs": [],
      "source": [
        "# Dados iniciais\n",
        "\n",
        "import numpy as np\n",
        "import matplotlib.pyplot as plt\n",
        "\n",
        "#Geraçãoo de pesos aleatórios\n",
        "Pesos = np.random.rand(5)\n",
        "\n",
        "\n",
        "#Taxa de aprendizagem\n",
        "n = 0.0025\n",
        "precisao = 0.000001\n"
      ]
    },
    {
      "cell_type": "code",
      "execution_count": null,
      "metadata": {
        "id": "pQpOFg8izIMh"
      },
      "outputs": [],
      "source": [
        "#combinação linear\n",
        "def somaPonderada(X,W):\n",
        "  \n",
        "  m = np.multiply(X,W)\n",
        "  u = np.sum(m) \n",
        "  return u"
      ]
    },
    {
      "cell_type": "code",
      "execution_count": null,
      "metadata": {
        "id": "nD1fHLdWuHnE"
      },
      "outputs": [],
      "source": [
        "# Função de ativação(função degrau)\n",
        "def funcaoAtivacao(u):\n",
        "  if u>= 0:\n",
        "    return 1\n",
        "  else:\n",
        "    return -1\n",
        "\n"
      ]
    },
    {
      "cell_type": "code",
      "execution_count": null,
      "metadata": {
        "id": "BEm1x03aubUr"
      },
      "outputs": [],
      "source": [
        "# Saída\n",
        "def saida(X,W):\n",
        "  r = somaPonderada(X,W)\n",
        "  return funcaoAtivacao(r)"
      ]
    },
    {
      "cell_type": "code",
      "execution_count": null,
      "metadata": {
        "id": "FEq4KWeWucYb"
      },
      "outputs": [],
      "source": [
        "#Função de ajuste\n",
        "#novo peso => = wt-1 + n. (d(k) – u(k)) . x(k)\n",
        "def ajuste(n, W, X, d, u):\n",
        "  erro = d - u\n",
        "  novoPeso = W + n*X*erro\n",
        " \n",
        "  return novoPeso\n"
      ]
    },
    {
      "cell_type": "code",
      "execution_count": null,
      "metadata": {
        "id": "unWemuSI2cxs"
      },
      "outputs": [],
      "source": [
        "#EQM\n",
        "def erroQuadrado(X,W,d):\n",
        "  eqm = 0\n",
        "  for i in range(X.size - 1):\n",
        "    u = somaPonderada(X,W)\n",
        "    eqm = eqm + (d - u)*(d - u)\n",
        "  return eqm /X.size\n",
        "\n"
      ]
    },
    {
      "cell_type": "code",
      "execution_count": null,
      "metadata": {
        "id": "GyD0RR7R251C"
      },
      "outputs": [],
      "source": []
    },
    {
      "cell_type": "code",
      "execution_count": null,
      "metadata": {
        "id": "Hb1UwGq4jQVE"
      },
      "outputs": [],
      "source": [
        "def plotar(): \n",
        "  plt.xlabel('Epocas')\n",
        "  plt.ylabel('EQM')\n",
        "  plt.title('Erro quadrado médio')\n",
        "  plt.plot(contador, eqmAnterior)"
      ]
    },
    {
      "cell_type": "markdown",
      "metadata": {
        "id": "Yas0PUCRg9c6"
      },
      "source": [
        "#Treinamento\n"
      ]
    },
    {
      "cell_type": "code",
      "execution_count": null,
      "metadata": {
        "colab": {
          "base_uri": "https://localhost:8080/",
          "height": 1000
        },
        "id": "bJpaB0S91uXU",
        "outputId": "2f8b45f5-8eab-4f75-96de-1028d6b1ef7c"
      },
      "outputs": [],
      "source": [
        "\n",
        "\n",
        "eqmAnterior= float (\"inf\")\n",
        "eqmAtual = 1\n",
        "erro = np.array([])\n",
        "epoca = 0;\n",
        "print(\"Peso anterior:\",Pesos)\n",
        "while(abs(eqmAtual - eqmAnterior) > precisao):\n",
        "  epoca = epoca + 1\n",
        "  eqmAnterior = eqmAtual\n",
        "  file = open('treinamento.txt', 'r')\n",
        "\n",
        "  print('\\nEpoca:', epoca)\n",
        "  for linha in file:\n",
        "      arrayLinha = (linha.split())\n",
        "      arrayEntrada = [float(i) for i in arrayLinha]\n",
        "      A = np.array(arrayEntrada[0:5])\n",
        "      d = arrayEntrada[5]\n",
        "      u = somaPonderada(A, Pesos)\n",
        "      Pesos = ajuste(n,Pesos, A, d, u) \n",
        "  eqmAtual = erroQuadrado(A, Pesos,d)\n",
        "  erro = np.append(erro,eqmAtual)\n",
        "  file.close()\n",
        "plt.ylabel('EQM')\n",
        "plt.xlabel('Épocas')\n",
        "plt.plot(range(epoca), erro, 'g')  \n",
        "print(\"Peso Novo:\",Pesos)"
      ]
    },
    {
      "cell_type": "markdown",
      "metadata": {
        "id": "y8ipX1oig5ia"
      },
      "source": [
        "#Teste\n"
      ]
    },
    {
      "cell_type": "code",
      "execution_count": null,
      "metadata": {
        "colab": {
          "base_uri": "https://localhost:8080/"
        },
        "id": "n_imAV0d1Pwh",
        "outputId": "4b33be8e-9cbf-4cc1-d54a-13cd98067289"
      },
      "outputs": [
        {
          "name": "stdout",
          "output_type": "stream",
          "text": [
            "Amostra:  1\n",
            "Saída:  -1\n",
            "Amostra:  2\n",
            "Saída:  -1\n",
            "Amostra:  3\n",
            "Saída:  1\n",
            "Amostra:  4\n",
            "Saída:  -1\n",
            "Amostra:  5\n",
            "Saída:  -1\n",
            "Amostra:  6\n",
            "Saída:  1\n",
            "Amostra:  7\n",
            "Saída:  1\n",
            "Amostra:  8\n",
            "Saída:  1\n",
            "Amostra:  9\n",
            "Saída:  1\n",
            "Amostra:  10\n",
            "Saída:  -1\n",
            "Amostra:  11\n",
            "Saída:  -1\n",
            "Amostra:  12\n",
            "Saída:  1\n",
            "Amostra:  13\n",
            "Saída:  -1\n",
            "Amostra:  14\n",
            "Saída:  -1\n",
            "Amostra:  15\n",
            "Saída:  1\n"
          ]
        }
      ],
      "source": [
        "\n",
        "file = open('teste.txt', 'r')\n",
        "contador = 0;\n",
        "for linha in file:\n",
        "    contador = contador + 1\n",
        "    arrayLinha = (linha.split())\n",
        "    arrayEntrada = [float(i) for i in arrayLinha]\n",
        "    A = np.array(arrayEntrada[0:5])\n",
        "    y = saida(A,Pesos )\n",
        "    print('Amostra: ', contador)\n",
        "    print(\"Saída: \",y)\n",
        "file.close()"
      ]
    }
  ],
  "metadata": {
    "colab": {
      "name": "ECP02-Gustavo.ipynb",
      "provenance": []
    },
    "kernelspec": {
      "display_name": "Python 3",
      "name": "python3"
    },
    "language_info": {
      "name": "python"
    }
  },
  "nbformat": 4,
  "nbformat_minor": 0
}
