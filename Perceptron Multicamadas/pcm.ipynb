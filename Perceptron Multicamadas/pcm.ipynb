{
  "cells": [
    {
      "cell_type": "markdown",
      "metadata": {
        "id": "pA7RlTFEMb0Q"
      },
      "source": [
        "#Atividade PCM - Gustavo Alves"
      ]
    },
    {
      "cell_type": "code",
      "execution_count": null,
      "metadata": {
        "id": "k79Ou31uMOGA"
      },
      "outputs": [],
      "source": [
        "# Dados iniciais\n",
        "\n",
        "import numpy as np\n",
        "import matplotlib.pyplot as plt\n",
        "\n",
        "\n",
        "\n",
        "#Taxa de aprendizagem\n",
        "n = 0.1\n",
        "precisao = 1e-06\n",
        "beta = 0.5\n",
        "a = 0.9\n",
        "\n",
        "#Pesos utilizados no treinamento antes do teste final, sem validação\n",
        "\n",
        "# peso1 = np.random.rand(5,5)\n",
        "# peso2 = np.random.rand(2,6)\n"
      ]
    },
    {
      "cell_type": "code",
      "execution_count": null,
      "metadata": {
        "id": "IlGR9smAQUs-"
      },
      "outputs": [],
      "source": [
        "\n",
        "#Função de ativação\n",
        "\n",
        "def sigmoid(u,beta):\n",
        "    return 1 / (1 + np.exp(-beta*u))\n",
        "\n"
      ]
    },
    {
      "cell_type": "code",
      "execution_count": null,
      "metadata": {
        "id": "DCquMloSSFaZ"
      },
      "outputs": [],
      "source": [
        "#derivaçao\n",
        "# g′(u) = β. g(u). (1 − g(u))\n",
        "\n",
        "def derivadaSigmoid(u,beta):\n",
        "    return beta*sigmoid(u,beta)*(1 - sigmoid(u,beta))"
      ]
    },
    {
      "cell_type": "code",
      "execution_count": null,
      "metadata": {
        "id": "NcgOQyQrXsVR"
      },
      "outputs": [],
      "source": [
        "def saidaFinal(u):\n",
        "  return np.around(u) #arredondar o valor de u  para 0 ou 1"
      ]
    },
    {
      "cell_type": "code",
      "execution_count": null,
      "metadata": {
        "id": "mpaVKjHBPEZy"
      },
      "outputs": [],
      "source": [
        "def calculaI(X, W):\n",
        "    i = []\n",
        "    for z in W:\n",
        "      m = np.multiply(X, z)\n",
        "      u = np.sum(m)\n",
        "      i.append(u)\n",
        "    return i"
      ]
    },
    {
      "cell_type": "code",
      "execution_count": null,
      "metadata": {
        "id": "vJQyd-TVXNNl"
      },
      "outputs": [],
      "source": [
        "def calculaY(i, beta):\n",
        "    y= []\n",
        "    for z in i:\n",
        "      y.append(sigmoid(z,beta))\n",
        "    return y\n"
      ]
    },
    {
      "cell_type": "code",
      "execution_count": null,
      "metadata": {
        "id": "zvpnaoJGYfNC"
      },
      "outputs": [],
      "source": [
        "\n",
        "def gradiente(d, Y,u,beta):\n",
        "  arrayGradiente = [] \n",
        "  for i in range(len(d)):\n",
        "    arrayGradiente.append((d[i]-Y[i])*derivadaSigmoid(u[i],beta))\n",
        "  return arrayGradiente"
      ]
    },
    {
      "cell_type": "code",
      "execution_count": null,
      "metadata": {
        "id": "a7jJ1zHcTXmz"
      },
      "outputs": [],
      "source": [
        "def gradienteCamadasEscondidas(u, arrayGradiente,W,beta):\n",
        "    transpostadeW = np.array(W).T\n",
        "    arrayGradiente2 = []\n",
        "    for j in range(len(u)):\n",
        "      result = np.multiply(arrayGradiente, transpostadeW[j])\n",
        "      arrayGradiente2.append(np.sum(result)* derivadaSigmoid(u[j],beta))\n",
        "    return  arrayGradiente2\n"
      ]
    },
    {
      "cell_type": "code",
      "execution_count": null,
      "metadata": {
        "id": "F0lal8waqmMr"
      },
      "outputs": [],
      "source": [
        "def ajustaPeso(peso,Y,arrayGradiente):\n",
        "    for j in range(len(arrayGradiente)):\n",
        "      for i in range(len(Y)):\n",
        "        peso[j][i] = peso[j][i] + n*arrayGradiente[j]*Y[i] \n",
        "    return peso"
      ]
    },
    {
      "cell_type": "code",
      "execution_count": null,
      "metadata": {
        "id": "PA_FWZ3TZ0Pc"
      },
      "outputs": [],
      "source": [
        "def ajustaPesoMomentum(peso,Y,arrayGradiente,pesoAntigo):\n",
        "    pesoAnt= peso.copy()\n",
        "    for j in range(len(arrayGradiente)):\n",
        "      for i in range(len(Y)):\n",
        "        peso[j][i] = peso[j][i] + n*arrayGradiente[j]*Y[i] + a* (peso[j][i] - pesoAntigo[j][i])\n",
        "    return peso, pesoAnt\n"
      ]
    },
    {
      "cell_type": "code",
      "execution_count": null,
      "metadata": {
        "id": "HzJ0PdsgtQ14"
      },
      "outputs": [],
      "source": [
        "def calculaErro(d, y):\n",
        "  result =  1/2* np.sum(np.multiply(np.subtract(d, y), np.subtract(d, y))) \n",
        "  return result\n"
      ]
    },
    {
      "cell_type": "code",
      "execution_count": null,
      "metadata": {
        "id": "RTRmpkM3l8QL"
      },
      "outputs": [],
      "source": [
        "def separaArquivoValidacao(arquivo):\n",
        "    for i in range(9):\n",
        "      arquivo.readline()\n",
        "    arrayTreinamento = []\n",
        "    arraySetosa = []\n",
        "    arrayVersicolor = []\n",
        "    arrayVirginica = []\n",
        "    for linha in arquivo:\n",
        "      arrayLinha = linha.split(',')\n",
        "      arrayLinha = [-1] + arrayLinha\n",
        "      if arrayLinha[5].strip() == 'Iris-setosa':\n",
        "        arrayLinha[5] = [0,0]\n",
        "        arrayLinha[0:5] =np.array([float(i) for i in arrayLinha[0:5]])\n",
        "        if len(arraySetosa) < 5:\n",
        "          arraySetosa.append(arrayLinha)\n",
        "        else:\n",
        "          arrayTreinamento.append(arrayLinha)\n",
        "      elif arrayLinha[5].strip() == 'Iris-versicolor':\n",
        "        arrayLinha[5] = [0,1]\n",
        "        arrayLinha[0:5] =np.array([float(i) for i in arrayLinha[0:5]])\n",
        "        if len(arrayVersicolor) < 5:\n",
        "          arrayVersicolor.append(arrayLinha)\n",
        "        else:\n",
        "          arrayTreinamento.append(arrayLinha)\n",
        "      elif arrayLinha[5].strip() == 'Iris-virginica':\n",
        "        arrayLinha[5] = [1, 0]\n",
        "        arrayLinha[0:5] =np.array([float(i) for i in arrayLinha[0:5]])\n",
        "        if len( arrayVirginica) < 5:\n",
        "           arrayVirginica.append(arrayLinha)\n",
        "        else:\n",
        "          arrayTreinamento.append(arrayLinha)\n",
        "    return arrayTreinamento, arraySetosa + arrayVersicolor + arrayVirginica"
      ]
    },
    {
      "cell_type": "code",
      "execution_count": null,
      "metadata": {
        "id": "X3LCDQCoq9Vk"
      },
      "outputs": [],
      "source": [
        "def treinamento(dado, peso1, peso2, beta, precisao):\n",
        "  eqmAnterior = float('inf');\n",
        "  eqmAtual = 1;\n",
        "  epoca= 0\n",
        "  contador = 0\n",
        "  while (abs(eqmAtual - eqmAnterior) > precisao):\n",
        "    epoca = epoca +1\n",
        "    eqmAnterior = eqmAtual\n",
        "    for linha in dado[0]:\n",
        "      contador = contador + 1;\n",
        "      X = linha[0:5]\n",
        "      d = linha[5]\n",
        "      i1 = calculaI(X, peso1)\n",
        "      y1 = [-1] + calculaY(i1, beta)\n",
        "      i2 = calculaI(y1, peso2)\n",
        "      y2 = calculaY(i2, beta)\n",
        "      delta1 = gradiente(d, y2, i2,beta)\n",
        "      peso2 = ajustaPeso(peso2,y1, delta1)\n",
        "      delta2 = gradienteCamadasEscondidas(i1, delta1, peso2,beta)\n",
        "      peso1 = ajustaPeso(peso1,X, delta2)\n",
        "      eqmAtual = eqmAtual + calculaErro(d, y2)\n",
        "    eqmAtual = eqmAtual/contador\n",
        "  return epoca, abs(eqmAtual - eqmAnterior)\n",
        "\n",
        " \n"
      ]
    },
    {
      "cell_type": "code",
      "execution_count": null,
      "metadata": {
        "id": "BReQ4EEb8MwO"
      },
      "outputs": [],
      "source": [
        "\n",
        "def treinamentoMomentum(dado, peso1, peso2, beta, precisao):\n",
        "  eqmAnterior = float('inf');\n",
        "  eqmAtual = 1;\n",
        "  epoca= 0\n",
        "  contador = 0\n",
        "  while (abs(eqmAtual - eqmAnterior) > precisao):\n",
        "    epoca = epoca +1\n",
        "    eqmAnterior = eqmAtual\n",
        "    pesoAnterior1 = peso1\n",
        "    pesoAnterior2= peso2\n",
        "    for linha in dado[0]:\n",
        "      contador = contador + 1;\n",
        "      X = linha[0:5]\n",
        "      d = linha[5]\n",
        "      i1 = calculaI(X, peso1)\n",
        "      y1 = [-1] + calculaY(i1, beta)\n",
        "      i2 = calculaI(y1, peso2)\n",
        "      y2 = calculaY(i2, beta)\n",
        "      delta1 = gradiente(d, y2, i2,beta)\n",
        "      peso2,pesoAnterior2= ajustaPesoMomentum(peso2,y1, delta1,pesoAnterior2)\n",
        "      delta2 = gradienteCamadasEscondidas(i1, delta1, peso2,beta)\n",
        "      peso1,pesoAnterior1 = ajustaPesoMomentum(peso1,X, delta2,pesoAnterior1)\n",
        "      eqmAtual = eqmAtual + calculaErro(d, y2)\n",
        "    eqmAtual = eqmAtual/contador\n",
        "  return epoca, abs(eqmAtual - eqmAnterior)\n",
        "\n",
        " \n",
        "\n"
      ]
    },
    {
      "cell_type": "code",
      "execution_count": null,
      "metadata": {
        "id": "EcATXEJLO6Th"
      },
      "outputs": [],
      "source": [
        "\n",
        "def teste(dado):\n",
        "  acuracia = 0\n",
        "  contador= 0\n",
        "  for linha in dado[1]:\n",
        "    contador = contador + 1\n",
        "    X = linha[0:5]\n",
        "    d = linha[5]\n",
        "    i1 = calculaI(X, peso1)\n",
        "    y1 = [-1] + calculaY(i1,beta)\n",
        "    i2 = calculaI(y1, peso2)\n",
        "    y2 = calculaY(i2,beta)\n",
        "    saida = saidaFinal(y2)\n",
        "    if np.array_equiv(saida, d):# verifica se matrizes são equivalentes\n",
        "      acuracia = acuracia +1\n",
        "  return acuracia/contador\n"
      ]
    },
    {
      "cell_type": "markdown",
      "metadata": {
        "id": "Vw2FwkXbcbJl"
      },
      "source": [
        "#Treinamento e Validação"
      ]
    },
    {
      "cell_type": "code",
      "execution_count": null,
      "metadata": {
        "id": "f1_meeFupHhu"
      },
      "outputs": [],
      "source": [
        "\n",
        "arrayDados = []\n",
        "acuracias = []\n",
        "erros = []\n",
        "epocas = []\n",
        "for i in range(1,10):\n",
        "  arquivo = open('iris-10dobscv-'+str(i)+'tra.dat', 'r') #nome do arquivo muda de acordo com o SO utilizado, no windows é assim\n",
        "  treinamentoo, validacao = separaArquivoValidacao(arquivo)\n",
        "  arrayDados.append( [treinamentoo, validacao ])\n",
        "arquivo.close()\n",
        "\n",
        "for i in arrayDados:\n",
        "\n",
        "#altera a topologia de acordo com qtd de neuronios na matriz de pesos ou adiciona mais camadas\n",
        "#colocando mais matrizes de peso  e reseta a cada iteração no caso do treinamento com validação\n",
        "  peso1 = np.random.rand(5,5)\n",
        "  peso2 = np.random.rand(2,6)\n",
        "\n",
        "  epoca, erro = treinamento(i,peso1,peso2,beta,precisao) # treinamento sem fator de momentum\n",
        "  # epoca, erro = treinamentoMomentum(i,peso1,peso2,beta,precisao) # para aplicar o fator de momentum\n",
        "  acuracia = teste(i)\n",
        "  acuracias.append(acuracia)\n",
        "  epocas.append(epoca)\n",
        "  erros.append(erro)\n",
        "print('____Desvio Padrão_______')\n",
        "print('Erros:',np.std(erros))\n",
        "print( 'Epocas: ',np.std(epocas))\n",
        "print('Acuracia:',np.std(acuracias))\n",
        "print('\\n')\n",
        "print('___Médias_______________________')\n",
        "print('Erros: ',np.average (erros))\n",
        "print('Epocas: ', np.average (epocas))\n",
        "print('Acuracia:', np.average(acuracias))\n",
        " \n",
        "\n",
        "\n"
      ]
    },
    {
      "cell_type": "markdown",
      "metadata": {
        "id": "RH2BhlXwcyYz"
      },
      "source": [
        "#Teste"
      ]
    },
    {
      "cell_type": "code",
      "execution_count": null,
      "metadata": {
        "colab": {
          "base_uri": "https://localhost:8080/"
        },
        "id": "0tYUHEnxc1AE",
        "outputId": "6aed3305-e253-4413-f8dc-856e81f69a71"
      },
      "outputs": [],
      "source": [
        "arrayTeste = []\n",
        "acuracias = []\n",
        "for i in range(1,10):\n",
        "  arquivo = open('iris-10dobscv-'+str(i)+'tst.dat', 'r') #nome do arquivo muda de acordo com o SO utilizado, no windows é assim\n",
        "  testee, validacao = separaArquivoValidacao(arquivo)\n",
        "  arrayTeste.append( [testee, validacao ])\n",
        "arquivo.close()\n",
        "for i in arrayTeste:\n",
        "  acuracia = teste(i)\n",
        "  acuracias.append(acuracia)\n",
        "print('___Acuracias______________________')\n",
        "print('Desvio Padrão: ',np.std(acuracias))\n",
        "print('Media: ',np.average(acuracias))\n"
      ]
    }
  ],
  "metadata": {
    "colab": {
      "collapsed_sections": [],
      "name": "ECP03-GustavoAlves.ipynb",
      "provenance": []
    },
    "kernelspec": {
      "display_name": "Python 3",
      "name": "python3"
    },
    "language_info": {
      "name": "python"
    }
  },
  "nbformat": 4,
  "nbformat_minor": 0
}
